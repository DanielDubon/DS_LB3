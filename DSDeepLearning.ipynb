{
  "cells": [
    {
      "cell_type": "code",
      "execution_count": null,
      "metadata": {
        "id": "jLKrZBRklGHq"
      },
      "outputs": [],
      "source": [
        "import tensorflow as tf\n",
        "from tensorflow.keras import layers, models\n",
        "from tensorflow.keras.datasets import cifar10\n",
        "from tensorflow.keras.utils import to_categorical\n",
        "import matplotlib.pyplot as plt\n",
        "import numpy as np\n",
        "import pickle\n",
        "import os\n"
      ]
    },
    {
      "cell_type": "code",
      "execution_count": null,
      "metadata": {
        "colab": {
          "base_uri": "https://localhost:8080/"
        },
        "id": "JCJNGXd5l6sl",
        "outputId": "24bb9587-ea25-4531-bde1-2b9d22e5a5cf"
      },
      "outputs": [
        {
          "output_type": "stream",
          "name": "stdout",
          "text": [
            "Path to dataset files: /kaggle/input/mnist-multiple-dataset-comprehensive-analysis\n"
          ]
        }
      ],
      "source": [
        "import kagglehub\n",
        "\n",
        "# Download latest version\n",
        "path = kagglehub.dataset_download(\"agungpambudi/mnist-multiple-dataset-comprehensive-analysis\")\n",
        "\n",
        "print(\"Path to dataset files:\", path)"
      ]
    },
    {
      "cell_type": "code",
      "execution_count": null,
      "metadata": {
        "colab": {
          "base_uri": "https://localhost:8080/",
          "height": 34
        },
        "id": "XjTfhNI2moB_",
        "outputId": "6bb3135c-f288-457f-83cd-e5b3ffad0469"
      },
      "outputs": [
        {
          "output_type": "display_data",
          "data": {
            "text/plain": [
              "<Figure size 1200x400 with 0 Axes>"
            ]
          },
          "metadata": {}
        }
      ],
      "source": [
        "# Ruta relativa a la carpeta PolyMNIST\n",
        "data_path = '/kaggle/input/mnist-multiple-dataset-comprehensive-analysis'\n",
        "\n",
        "# Listar archivos en la carpeta\n",
        "image_files = sorted([f for f in os.listdir(data_path) if f.endswith('.png') or f.endswith('.jpg')])\n",
        "\n",
        "# Mostrar algunas imágenes\n",
        "plt.figure(figsize=(12, 4))\n",
        "for i, file_name in enumerate(image_files[:5]):\n",
        "    img_path = os.path.join(data_path, file_name)\n",
        "    img = Image.open(img_path)\n",
        "    plt.subplot(1, 5, i + 1)\n",
        "    plt.imshow(img, cmap='gray')\n",
        "    plt.axis('off')\n",
        "    plt.title(f'{file_name}')\n",
        "plt.tight_layout()\n",
        "plt.show()"
      ]
    },
    {
      "cell_type": "code",
      "execution_count": null,
      "metadata": {
        "colab": {
          "base_uri": "https://localhost:8080/",
          "height": 322
        },
        "id": "XcPPbYm-nb_j",
        "outputId": "de786602-de15-4d8c-ce07-77f24d0597a5"
      },
      "outputs": [
        {
          "output_type": "display_data",
          "data": {
            "text/plain": [
              "<Figure size 1500x300 with 5 Axes>"
            ],
            "image/png": "[encoded data removed]"
          },
          "metadata": {}
        }
      ],
      "source": [
        "from PIL import Image\n",
        "\n",
        "\n",
        "base_path = '/kaggle/input/mnist-multiple-dataset-comprehensive-analysis/PolyMNIST/MMNIST/train'\n",
        "modalities = ['m0', 'm1', 'm2', 'm3', 'm4']\n",
        "\n",
        "plt.figure(figsize=(15, 3))\n",
        "for i, mod in enumerate(modalities):\n",
        "    mod_path = os.path.join(base_path, mod)\n",
        "    file = sorted(os.listdir(mod_path))[0]  # Primer archivo\n",
        "    img = Image.open(os.path.join(mod_path, file))\n",
        "\n",
        "    plt.subplot(1, 5, i + 1)\n",
        "    plt.imshow(img, cmap='gray')\n",
        "    plt.title(f'{mod} - {file}')\n",
        "    plt.axis('off')\n",
        "\n",
        "plt.tight_layout()\n",
        "plt.show()"
      ]
    },
    {
      "cell_type": "code",
      "execution_count": null,
      "metadata": {
        "id": "2f430a58"
      },
      "outputs": [],
      "source": [
        "import tensorflow as tf\n",
        "from tensorflow.keras import layers, models, Input\n",
        "from tensorflow.keras.utils import to_categorical\n",
        "import numpy as np\n",
        "import os\n",
        "from PIL import Image\n",
        "\n",
        "def load_and_preprocess_polymnist_single_cell(base_path, modalities, img_size=(28, 28)):\n",
        "    train_images = []\n",
        "    train_labels = []\n",
        "    test_images = []\n",
        "    test_labels = []\n",
        "\n",
        "    print(f\"Base path for loading: {base_path}\")\n",
        "    if not os.path.exists(base_path):\n",
        "        print(f\"Base path not found: {base_path}\")\n",
        "        return tf.constant(train_images, dtype=tf.float32), tf.constant(train_labels, dtype=tf.int32), tf.constant(test_images, dtype=tf.float32), tf.constant(test_labels, dtype=tf.int32)\n",
        "\n",
        "    for mod in modalities:\n",
        "        print(f\"Loading modality: {mod}\")\n",
        "        mod_train_path = os.path.join(base_path, 'train', mod)\n",
        "        mod_test_path = os.path.join(base_path, 'test', mod)\n",
        "\n",
        "        if os.path.exists(mod_train_path):\n",
        "            for img_file in sorted(os.listdir(mod_train_path)):\n",
        "                if img_file.endswith(('.png', '.jpg')):\n",
        "                    try:\n",
        "                        img = Image.open(os.path.join(mod_train_path, img_file)).convert('L').resize(img_size)\n",
        "                        train_images.append(np.array(img) / 255.0)\n",
        "                        label = int(img_file.split('.')[-2])\n",
        "                        train_labels.append(label)\n",
        "                    except Exception as e:\n",
        "                        print(f\"Error loading train image {img_file}: {e}\")\n",
        "\n",
        "        if os.path.exists(mod_test_path):\n",
        "            for img_file in sorted(os.listdir(mod_test_path)):\n",
        "                if img_file.endswith(('.png', '.jpg')):\n",
        "                    try:\n",
        "                        img = Image.open(os.path.join(mod_test_path, img_file)).convert('L').resize(img_size)\n",
        "                        test_images.append(np.array(img) / 255.0)\n",
        "                        label = int(img_file.split('.')[-2])\n",
        "                        test_labels.append(label)\n",
        "                    except Exception as e:\n",
        "                        print(f\"Error loading test image {img_file}: {e}\")\n",
        "\n",
        "    return train_images, train_labels, test_images, test_labels\n"
      ]
    },
    {
      "cell_type": "code",
      "execution_count": null,
      "metadata": {
        "colab": {
          "base_uri": "https://localhost:8080/"
        },
        "id": "YBWHForpp2h4",
        "outputId": "8d8b5c62-bc83-45e5-e9b1-e7134000fc89"
      },
      "outputs": [
        {
          "output_type": "stream",
          "name": "stdout",
          "text": [
            "Base path for loading: /kaggle/input/mnist-multiple-dataset-comprehensive-analysis/PolyMNIST/MMNIST\n",
            "Loading modality: m0\n",
            "Loading modality: m1\n",
            "Loading modality: m2\n",
            "Loading modality: m3\n",
            "Loading modality: m4\n",
            "Train images shape: (300000, 28, 28, 1)\n",
            "Train labels shape: (300000, 10)\n",
            "Test images shape: (50000, 28, 28, 1)\n",
            "Test labels shape: (50000, 10)\n"
          ]
        }
      ],
      "source": [
        "# Define base path y modalidades\n",
        "base_path = '/kaggle/input/mnist-multiple-dataset-comprehensive-analysis/PolyMNIST/MMNIST'\n",
        "modalities = ['m0', 'm1', 'm2', 'm3', 'm4']\n",
        "\n",
        "# Carga cruda\n",
        "train_images_raw, train_labels_raw, test_images_raw, test_labels_raw = load_and_preprocess_polymnist_single_cell(base_path, modalities)\n",
        "\n",
        "# A tensor y reshape\n",
        "train_images = tf.convert_to_tensor(train_images_raw, dtype=tf.float32)\n",
        "test_images = tf.convert_to_tensor(test_images_raw, dtype=tf.float32)\n",
        "\n",
        "train_images = tf.reshape(train_images, [-1, 28, 28, 1])\n",
        "test_images = tf.reshape(test_images, [-1, 28, 28, 1])\n",
        "\n",
        "train_labels = to_categorical(train_labels_raw, num_classes=10)\n",
        "test_labels = to_categorical(test_labels_raw, num_classes=10)\n",
        "\n",
        "# Confirmar dimensiones\n",
        "print(\"Train images shape:\", train_images.shape)\n",
        "print(\"Train labels shape:\", train_labels.shape)\n",
        "print(\"Test images shape:\", test_images.shape)\n",
        "print(\"Test labels shape:\", test_labels.shape)\n"
      ]
    },
    {
      "cell_type": "code",
      "execution_count": null,
      "metadata": {
        "colab": {
          "base_uri": "https://localhost:8080/"
        },
        "id": "_G4LJRf1p5UP",
        "outputId": "92c5f50b-2fdd-44e6-c36e-de740a7a66ad"
      },
      "outputs": [
        {
          "output_type": "stream",
          "name": "stdout",
          "text": [
            "\n",
            "Training Model 1...\n",
            "Epoch 1/5\n",
            "\u001b[1m4688/4688\u001b[0m \u001b[32m━━━━━━━━━━━━━━━━━━━━\u001b[0m\u001b[37m\u001b[0m \u001b[1m161s\u001b[0m 34ms/step - accuracy: 0.8468 - loss: 0.5012 - val_accuracy: 0.9432 - val_loss: 0.1722\n",
            "Epoch 2/5\n",
            "\u001b[1m4688/4688\u001b[0m \u001b[32m━━━━━━━━━━━━━━━━━━━━\u001b[0m\u001b[37m\u001b[0m \u001b[1m202s\u001b[0m 34ms/step - accuracy: 0.9594 - loss: 0.1266 - val_accuracy: 0.9633 - val_loss: 0.1158\n",
            "Epoch 3/5\n",
            "\u001b[1m4688/4688\u001b[0m \u001b[32m━━━━━━━━━━━━━━━━━━━━\u001b[0m\u001b[37m\u001b[0m \u001b[1m161s\u001b[0m 34ms/step - accuracy: 0.9732 - loss: 0.0814 - val_accuracy: 0.9670 - val_loss: 0.1023\n",
            "Epoch 4/5\n",
            "\u001b[1m4688/4688\u001b[0m \u001b[32m━━━━━━━━━━━━━━━━━━━━\u001b[0m\u001b[37m\u001b[0m \u001b[1m198s\u001b[0m 34ms/step - accuracy: 0.9804 - loss: 0.0594 - val_accuracy: 0.9680 - val_loss: 0.1233\n",
            "Epoch 5/5\n",
            "\u001b[1m4688/4688\u001b[0m \u001b[32m━━━━━━━━━━━━━━━━━━━━\u001b[0m\u001b[37m\u001b[0m \u001b[1m164s\u001b[0m 35ms/step - accuracy: 0.9841 - loss: 0.0472 - val_accuracy: 0.9678 - val_loss: 0.1209\n"
          ]
        }
      ],
      "source": [
        "def create_cnn_model_functional(input_shape):\n",
        "    inputs = Input(shape=input_shape)\n",
        "    x = layers.Conv2D(32, kernel_size=3, activation='relu')(inputs)\n",
        "    x = layers.MaxPooling2D(pool_size=2)(x)\n",
        "    x = layers.Conv2D(64, kernel_size=3, activation='relu')(x)\n",
        "    x = layers.MaxPooling2D(pool_size=2)(x)\n",
        "    x = layers.Flatten()(x)\n",
        "    x = layers.Dense(128, activation='relu')(x)\n",
        "    outputs = layers.Dense(10, activation='softmax')(x)\n",
        "    return models.Model(inputs=inputs, outputs=outputs)\n",
        "\n",
        "input_shape = train_images.shape[1:]\n",
        "model1 = create_cnn_model_functional(input_shape)\n",
        "model1.compile(optimizer='adam', loss='categorical_crossentropy', metrics=['accuracy'])\n",
        "\n",
        "print(\"\\nTraining Model 1...\")\n",
        "history1 = model1.fit(train_images, train_labels, epochs=5, batch_size=64, validation_data=(test_images, test_labels))\n"
      ]
    },
    {
      "cell_type": "code",
      "execution_count": null,
      "metadata": {
        "colab": {
          "base_uri": "https://localhost:8080/",
          "height": 211
        },
        "id": "asdcg6VwQNuF",
        "outputId": "e6b4e50a-7446-4714-ed40-d9d33f73a9aa"
      },
      "outputs": [
        {
          "output_type": "error",
          "ename": "NameError",
          "evalue": "name 'input_shape' is not defined",
          "traceback": [
            "\u001b[0;31m---------------------------------------------------------------------------\u001b[0m",
            "\u001b[0;31mNameError\u001b[0m                                 Traceback (most recent call last)",
            "\u001b[0;32m/tmp/ipython-input-1849491762.py\u001b[0m in \u001b[0;36m<cell line: 0>\u001b[0;34m()\u001b[0m\n\u001b[1;32m     12\u001b[0m     \u001b[0;32mreturn\u001b[0m \u001b[0mmodels\u001b[0m\u001b[0;34m.\u001b[0m\u001b[0mModel\u001b[0m\u001b[0;34m(\u001b[0m\u001b[0minputs\u001b[0m\u001b[0;34m=\u001b[0m\u001b[0minputs\u001b[0m\u001b[0;34m,\u001b[0m \u001b[0moutputs\u001b[0m\u001b[0;34m=\u001b[0m\u001b[0moutputs\u001b[0m\u001b[0;34m)\u001b[0m\u001b[0;34m\u001b[0m\u001b[0;34m\u001b[0m\u001b[0m\n\u001b[1;32m     13\u001b[0m \u001b[0;34m\u001b[0m\u001b[0m\n\u001b[0;32m---> 14\u001b[0;31m \u001b[0mmodel2\u001b[0m \u001b[0;34m=\u001b[0m \u001b[0mcreate_cnn_model2_functional\u001b[0m\u001b[0;34m(\u001b[0m\u001b[0minput_shape\u001b[0m\u001b[0;34m)\u001b[0m\u001b[0;34m\u001b[0m\u001b[0;34m\u001b[0m\u001b[0m\n\u001b[0m\u001b[1;32m     15\u001b[0m \u001b[0mmodel2\u001b[0m\u001b[0;34m.\u001b[0m\u001b[0mcompile\u001b[0m\u001b[0;34m(\u001b[0m\u001b[0moptimizer\u001b[0m\u001b[0;34m=\u001b[0m\u001b[0;34m'adam'\u001b[0m\u001b[0;34m,\u001b[0m \u001b[0mloss\u001b[0m\u001b[0;34m=\u001b[0m\u001b[0;34m'categorical_crossentropy'\u001b[0m\u001b[0;34m,\u001b[0m \u001b[0mmetrics\u001b[0m\u001b[0;34m=\u001b[0m\u001b[0;34m[\u001b[0m\u001b[0;34m'accuracy'\u001b[0m\u001b[0;34m]\u001b[0m\u001b[0;34m)\u001b[0m\u001b[0;34m\u001b[0m\u001b[0;34m\u001b[0m\u001b[0m\n\u001b[1;32m     16\u001b[0m \u001b[0;34m\u001b[0m\u001b[0m\n",
            "\u001b[0;31mNameError\u001b[0m: name 'input_shape' is not defined"
          ]
        }
      ],
      "source": [
        "def create_cnn_model2_functional(input_shape):\n",
        "    inputs = Input(shape=input_shape)\n",
        "    x = layers.Conv2D(64, kernel_size=5, activation='relu', padding='same')(inputs)\n",
        "    x = layers.MaxPooling2D(pool_size=2)(x)\n",
        "    x = layers.Conv2D(128, kernel_size=3, activation='relu', padding='same')(x)\n",
        "    x = layers.MaxPooling2D(pool_size=2)(x)\n",
        "    x = layers.Conv2D(128, kernel_size=3, activation='relu', padding='same')(x)\n",
        "    x = layers.Flatten()(x)\n",
        "    x = layers.Dense(256, activation='relu')(x)\n",
        "    x = layers.Dropout(0.5)(x)\n",
        "    outputs = layers.Dense(10, activation='softmax')(x)\n",
        "    return models.Model(inputs=inputs, outputs=outputs)\n",
        "\n",
        "model2 = create_cnn_model2_functional(input_shape)\n",
        "model2.compile(optimizer='adam', loss='categorical_crossentropy', metrics=['accuracy'])\n",
        "\n",
        "print(\"\\nTraining Model 2...\")\n",
        "history2 = model2.fit(train_images, train_labels, epochs=5, batch_size=64, validation_data=(test_images, test_labels))\n"
      ]
    },
    {
      "cell_type": "code",
      "execution_count": null,
      "metadata": {
        "colab": {
          "base_uri": "https://localhost:8080/"
        },
        "id": "h2IT60i8QP_0",
        "outputId": "02d803b1-df06-4246-e8f0-6ccaf0a73690"
      },
      "outputs": [
        {
          "output_type": "stream",
          "name": "stdout",
          "text": [
            "\u001b[1m1563/1563\u001b[0m \u001b[32m━━━━━━━━━━━━━━━━━━━━\u001b[0m\u001b[37m\u001b[0m \u001b[1m12s\u001b[0m 8ms/step - accuracy: 0.9668 - loss: 0.1234\n",
            "Model 1 Test Accuracy: 0.9678\n",
            "\u001b[1m1563/1563\u001b[0m \u001b[32m━━━━━━━━━━━━━━━━━━━━\u001b[0m\u001b[37m\u001b[0m \u001b[1m45s\u001b[0m 29ms/step - accuracy: 0.9681 - loss: 0.1065\n",
            "Model 2 Test Accuracy: 0.9685\n"
          ]
        }
      ],
      "source": [
        "# Evaluar modelo 1\n",
        "loss1, acc1 = model1.evaluate(test_images, test_labels)\n",
        "print(f\"Model 1 Test Accuracy: {acc1:.4f}\")\n",
        "\n",
        "# Evaluar modelo 2\n",
        "loss2, acc2 = model2.evaluate(test_images, test_labels)\n",
        "print(f\"Model 2 Test Accuracy: {acc2:.4f}\")\n"
      ]
    },
    {
      "cell_type": "markdown",
      "source": [
        "Modelo 1: Alcanzó una precisión en el conjunto de prueba de 0.9678.\n",
        "Modelo 2: Alcanzó una precisión en el conjunto de prueba de 0.9685.\n",
        "El Modelo 2 muestra una precisión ligeramente mayor en el conjunto de prueba en comparación con el Modelo 1. Sugiere que el Modelo 2 tuvo un rendimiento marginalmente mejor en este conjunto de datos específico.\n",
        "\n",
        "En este caso, el Modelo 2 tardó significativamente más en entrenar por época que el Modelo 1 pero fue el mejor al obtener mayor precisión."
      ],
      "metadata": {
        "id": "LlNjvURYDoRR"
      }
    },
    {
      "cell_type": "code",
      "source": [
        "# Crear un modelo de red neuronal simple\n",
        "def create_simple_nn_model(input_shape):\n",
        "    model = models.Sequential([\n",
        "        layers.Flatten(input_shape=input_shape),\n",
        "        layers.Dense(128, activation='relu'),\n",
        "        layers.Dense(10, activation='softmax')\n",
        "    ])\n",
        "    return model\n",
        "\n",
        "input_shape = train_images.shape[1:]\n",
        "model_simple_nn = create_simple_nn_model(input_shape)\n",
        "\n",
        "# Compilar el modelo\n",
        "model_simple_nn.compile(optimizer='adam',\n",
        "              loss='categorical_crossentropy',\n",
        "              metrics=['accuracy'])\n",
        "\n",
        "print(\"\\nTraining Simple Neural Network Model...\")\n",
        "\n",
        "# Entrenar el modelo\n",
        "history_simple_nn = model_simple_nn.fit(train_images, train_labels, epochs=5, batch_size=64, validation_data=(test_images, test_labels))\n",
        "\n",
        "# Evaluar el modelo\n",
        "loss_simple_nn, acc_simple_nn = model_simple_nn.evaluate(test_images, test_labels)\n",
        "print(f\"\\nSimple Neural Network Model Test Accuracy: {acc_simple_nn:.4f}\")"
      ],
      "metadata": {
        "colab": {
          "base_uri": "https://localhost:8080/"
        },
        "id": "GkZP91urDmt6",
        "outputId": "1afe680a-59c1-4cd2-aa68-f40b54bedc79"
      },
      "execution_count": null,
      "outputs": [
        {
          "output_type": "stream",
          "name": "stdout",
          "text": [
            "\n",
            "Training Simple Neural Network Model...\n",
            "Epoch 1/5\n"
          ]
        },
        {
          "output_type": "stream",
          "name": "stderr",
          "text": [
            "/usr/local/lib/python3.11/dist-packages/keras/src/layers/reshaping/flatten.py:37: UserWarning: Do not pass an `input_shape`/`input_dim` argument to a layer. When using Sequential models, prefer using an `Input(shape)` object as the first layer in the model instead.\n",
            "  super().__init__(**kwargs)\n"
          ]
        },
        {
          "output_type": "stream",
          "name": "stdout",
          "text": [
            "\u001b[1m4688/4688\u001b[0m \u001b[32m━━━━━━━━━━━━━━━━━━━━\u001b[0m\u001b[37m\u001b[0m \u001b[1m17s\u001b[0m 4ms/step - accuracy: 0.4941 - loss: 1.5303 - val_accuracy: 0.6955 - val_loss: 0.9666\n",
            "Epoch 2/5\n",
            "\u001b[1m4688/4688\u001b[0m \u001b[32m━━━━━━━━━━━━━━━━━━━━\u001b[0m\u001b[37m\u001b[0m \u001b[1m20s\u001b[0m 3ms/step - accuracy: 0.7202 - loss: 0.8929 - val_accuracy: 0.7690 - val_loss: 0.7629\n",
            "Epoch 3/5\n",
            "\u001b[1m4688/4688\u001b[0m \u001b[32m━━━━━━━━━━━━━━━━━━━━\u001b[0m\u001b[37m\u001b[0m \u001b[1m21s\u001b[0m 3ms/step - accuracy: 0.7585 - loss: 0.7778 - val_accuracy: 0.7755 - val_loss: 0.7253\n",
            "Epoch 4/5\n",
            "\u001b[1m4688/4688\u001b[0m \u001b[32m━━━━━━━━━━━━━━━━━━━━\u001b[0m\u001b[37m\u001b[0m \u001b[1m22s\u001b[0m 4ms/step - accuracy: 0.7789 - loss: 0.7144 - val_accuracy: 0.7739 - val_loss: 0.7210\n",
            "Epoch 5/5\n",
            "\u001b[1m4688/4688\u001b[0m \u001b[32m━━━━━━━━━━━━━━━━━━━━\u001b[0m\u001b[37m\u001b[0m \u001b[1m21s\u001b[0m 4ms/step - accuracy: 0.7920 - loss: 0.6729 - val_accuracy: 0.8057 - val_loss: 0.6582\n",
            "\u001b[1m1563/1563\u001b[0m \u001b[32m━━━━━━━━━━━━━━━━━━━━\u001b[0m\u001b[37m\u001b[0m \u001b[1m2s\u001b[0m 1ms/step - accuracy: 0.7899 - loss: 0.7408\n",
            "\n",
            "Simple Neural Network Model Test Accuracy: 0.8057\n"
          ]
        }
      ]
    },
    {
      "cell_type": "markdown",
      "source": [
        "La efectividad del modelo de red neuronal simple en el conjunto de prueba es de 0.8057."
      ],
      "metadata": {
        "id": "UzBcdEF5xDVc"
      }
    },
    {
      "cell_type": "markdown",
      "source": [
        "Modelo 1 (CNN): Precisión de 0.9678\n",
        "Modelo 2 (CNN con más capas y dropout): Precisión de 0.9685\n",
        "Modelo de Red Neuronal Simple: Precisión de 0.8057\n",
        "Comparando los tres modelos, las dos redes neuronales convolucionales (Modelo 1 y Modelo 2) superan de gran manera al modelo de red neuronal simple en términos de precisión en este conjunto de datos de imágenes. Esto es esperado, ya que las CNNs están diseñadas específicamente para tareas de procesamiento de imágenes y pueden capturar características espaciales de manera más efectiva.\n",
        "\n",
        "Entre los dos modelos CNN, el Modelo 2 tiene una precisión ligeramente mayor (0.9685 vs 0.9678) en el conjunto de prueba. Aunque la diferencia es pequeña, sugiere que la arquitectura del Modelo 2, que incluye más capas convolucionales y una capa de dropout, fue marginalmente más efectiva para esta tarea.\n",
        "\n",
        "Por lo tanto, basándonos en la precisión en el conjunto de prueba, el Modelo 2 es el mejor modelo de los tres. Tras su capacidad para aprender características complejas de las imágenes utilizando capas convolucionales y su arquitectura ligeramente más profunda y con regularización (dropout) que le permitió alcanzar una precisión ligeramente superior."
      ],
      "metadata": {
        "id": "Vv8LqZs4xOFQ"
      }
    },
    {
      "cell_type": "markdown",
      "source": [
        "### Modelo con otro algoritmo: SVM (Support Vector Machine)"
      ],
      "metadata": {
        "id": "loU0uYPws_MF"
      }
    },
    {
      "cell_type": "code",
      "source": [
        "from sklearn.svm import SVC\n",
        "from sklearn.metrics import classification_report, accuracy_score\n",
        "from sklearn.model_selection import train_test_split\n",
        "from sklearn.preprocessing import StandardScaler\n",
        "import numpy as np\n",
        "\n",
        "# Aplanar imágenes para SVM\n",
        "X_train_flat = train_images.numpy().reshape(len(train_images), -1)\n",
        "X_test_flat = test_images.numpy().reshape(len(test_images), -1)\n",
        "\n",
        "# Escalar los datos\n",
        "scaler = StandardScaler()\n",
        "X_train_scaled = scaler.fit_transform(X_train_flat)\n",
        "X_test_scaled = scaler.transform(X_test_flat)\n",
        "\n",
        "# Seleccionar una muestra por tiempo de cómputo\n",
        "X_train_sample, _, y_train_sample, _ = train_test_split(X_train_scaled, train_labels_raw, train_size=10000, stratify=train_labels_raw, random_state=42)\n",
        "X_test_sample, _, y_test_sample, _ = train_test_split(X_test_scaled, test_labels_raw, train_size=2000, stratify=test_labels_raw, random_state=42)\n",
        "\n",
        "# Entrenar modelo SVM\n",
        "svm_clf = SVC(kernel='rbf', C=5, gamma='scale')\n",
        "svm_clf.fit(X_train_sample, y_train_sample)\n",
        "\n",
        "# Evaluación\n",
        "y_pred_svm = svm_clf.predict(X_test_sample)\n",
        "acc_svm = accuracy_score(y_test_sample, y_pred_svm)\n",
        "\n",
        "print(f\"Accuracy SVM: {acc_svm:.4f}\")\n",
        "print(\"\\nReporte de clasificación:\")\n",
        "print(classification_report(y_test_sample, y_pred_svm))"
      ],
      "metadata": {
        "colab": {
          "base_uri": "https://localhost:8080/"
        },
        "id": "DowNFMb0tBfZ",
        "outputId": "76776749-3eeb-4e14-c4e4-11944b19f521"
      },
      "execution_count": null,
      "outputs": [
        {
          "output_type": "stream",
          "name": "stdout",
          "text": [
            "Accuracy SVM: 0.6910\n",
            "\n",
            "Reporte de clasificación:\n",
            "              precision    recall  f1-score   support\n",
            "\n",
            "           0       0.73      0.75      0.74       196\n",
            "           1       0.62      0.87      0.72       227\n",
            "           2       0.62      0.70      0.65       206\n",
            "           3       0.68      0.70      0.69       202\n",
            "           4       0.69      0.65      0.67       196\n",
            "           5       0.74      0.62      0.67       178\n",
            "           6       0.79      0.68      0.73       192\n",
            "           7       0.75      0.65      0.70       206\n",
            "           8       0.69      0.64      0.66       195\n",
            "           9       0.70      0.62      0.66       202\n",
            "\n",
            "    accuracy                           0.69      2000\n",
            "   macro avg       0.70      0.69      0.69      2000\n",
            "weighted avg       0.70      0.69      0.69      2000\n",
            "\n"
          ]
        }
      ]
    },
    {
      "cell_type": "markdown",
      "source": [
        "Como alternativa a las redes neuronales, se implementó un modelo de clasificación utilizando **SVM** con kernel RBF. Para ello se aplanaron las imágenes y se normalizaron con `StandardScaler` para permitir su procesamiento.\n",
        "\n",
        "Debido al alto costo computacional de SVM con grandes volúmenes de datos, se utilizó una muestra de **10,000 imágenes para entrenamiento** y **2,000 para prueba**.\n",
        "\n",
        "El modelo alcanzó una precisión de aproximadamente **0.69**. Este desempeño es significativamente menor en comparación con las redes neuronales convolucionales, lo cual era esperado, ya que las CNN están diseñadas para capturar patrones espaciales de manera más eficiente. A pesar de esto, SVM puede seguir siendo útil como línea base en escenarios con recursos computacionales limitados o conjuntos de datos más pequeños."
      ],
      "metadata": {
        "id": "dgLX5_-DtnL6"
      }
    },
    {
      "cell_type": "markdown",
      "source": [
        "### Transformaciones a los datos: Image Augmentation"
      ],
      "metadata": {
        "id": "3gXt9heBuNKV"
      }
    },
    {
      "cell_type": "code",
      "source": [
        "from tensorflow.keras import layers, models, Input\n",
        "\n",
        "def create_cnn_model2_functional(input_shape):\n",
        "    inputs = Input(shape=input_shape)\n",
        "    x = layers.Conv2D(64, kernel_size=5, activation='relu', padding='same')(inputs)\n",
        "    x = layers.MaxPooling2D(pool_size=2)(x)\n",
        "    x = layers.Conv2D(128, kernel_size=3, activation='relu', padding='same')(x)\n",
        "    x = layers.MaxPooling2D(pool_size=2)(x)\n",
        "    x = layers.Conv2D(128, kernel_size=3, activation='relu', padding='same')(x)\n",
        "    x = layers.Flatten()(x)\n",
        "    x = layers.Dense(256, activation='relu')(x)\n",
        "    x = layers.Dropout(0.5)(x)\n",
        "    outputs = layers.Dense(10, activation='softmax')(x)\n",
        "    return models.Model(inputs=inputs, outputs=outputs)\n",
        "\n",
        "# Vuelve a definir el modelo\n",
        "input_shape = train_images.shape[1:]\n",
        "model2 = create_cnn_model2_functional(input_shape)\n",
        "model2.compile(optimizer='adam', loss='categorical_crossentropy', metrics=['accuracy'])"
      ],
      "metadata": {
        "id": "_PD6AeVp1HrW"
      },
      "execution_count": null,
      "outputs": []
    },
    {
      "cell_type": "code",
      "source": [
        "from tensorflow.keras.preprocessing.image import ImageDataGenerator\n",
        "\n",
        "# Configuración de augmentations\n",
        "datagen = ImageDataGenerator(\n",
        "    rotation_range=15,\n",
        "    width_shift_range=0.1,\n",
        "    height_shift_range=0.1,\n",
        "    zoom_range=0.1\n",
        ")\n",
        "\n",
        "# Aplicar augmentación\n",
        "datagen.fit(train_images)\n",
        "\n",
        "# Entrenamiento con augmentación usando modelo2 (el mejor modelo anterior)\n",
        "print(\"\\nTraining Model 2 with Augmentation...\")\n",
        "history_augmented = model2.fit(\n",
        "    datagen.flow(train_images, train_labels, batch_size=64),\n",
        "    epochs=5,\n",
        "    validation_data=(test_images, test_labels)\n",
        ")\n",
        "\n",
        "# Evaluación\n",
        "loss_aug, acc_aug = model2.evaluate(test_images, test_labels)\n",
        "print(f\"\\nModel 2 Accuracy after augmentation: {acc_aug:.4f}\")"
      ],
      "metadata": {
        "colab": {
          "base_uri": "https://localhost:8080/"
        },
        "id": "fRIZ5aofuOpX",
        "outputId": "beb4c91f-55c0-42fb-b907-51bd8ebb996c"
      },
      "execution_count": null,
      "outputs": [
        {
          "metadata": {
            "tags": null
          },
          "name": "stdout",
          "output_type": "stream",
          "text": [
            "\n",
            "Training Model 2 with Augmentation...\n",
            "Epoch 1/5\n"
          ]
        },
        {
          "metadata": {
            "tags": null
          },
          "name": "stderr",
          "output_type": "stream",
          "text": [
            "/usr/local/lib/python3.11/dist-packages/keras/src/trainers/data_adapters/py_dataset_adapter.py:121: UserWarning: Your `PyDataset` class should call `super().__init__(**kwargs)` in its constructor. `**kwargs` can include `workers`, `use_multiprocessing`, `max_queue_size`. Do not pass these arguments to `fit()`, as they will be ignored.\n",
            "  self._warn_if_super_not_called()\n"
          ]
        },
        {
          "output_type": "stream",
          "name": "stdout",
          "text": [
            "\u001b[1m4688/4688\u001b[0m \u001b[32m━━━━━━━━━━━━━━━━━━━━\u001b[0m\u001b[37m\u001b[0m \u001b[1m1397s\u001b[0m 297ms/step - accuracy: 0.7243 - loss: 0.8231 - val_accuracy: 0.9458 - val_loss: 0.1661\n",
            "Epoch 2/5\n",
            "\u001b[1m4688/4688\u001b[0m \u001b[32m━━━━━━━━━━━━━━━━━━━━\u001b[0m\u001b[37m\u001b[0m \u001b[1m1398s\u001b[0m 298ms/step - accuracy: 0.9020 - loss: 0.3083 - val_accuracy: 0.9560 - val_loss: 0.1365\n",
            "Epoch 3/5\n",
            "\u001b[1m4688/4688\u001b[0m \u001b[32m━━━━━━━━━━━━━━━━━━━━\u001b[0m\u001b[37m\u001b[0m \u001b[1m1403s\u001b[0m 299ms/step - accuracy: 0.9225 - loss: 0.2469 - val_accuracy: 0.9559 - val_loss: 0.1364\n",
            "Epoch 4/5\n",
            "\u001b[1m4688/4688\u001b[0m \u001b[32m━━━━━━━━━━━━━━━━━━━━\u001b[0m\u001b[37m\u001b[0m \u001b[1m1392s\u001b[0m 297ms/step - accuracy: 0.9315 - loss: 0.2156 - val_accuracy: 0.9654 - val_loss: 0.1062\n",
            "Epoch 5/5\n",
            "\u001b[1m4688/4688\u001b[0m \u001b[32m━━━━━━━━━━━━━━━━━━━━\u001b[0m\u001b[37m\u001b[0m \u001b[1m1383s\u001b[0m 295ms/step - accuracy: 0.9379 - loss: 0.1965 - val_accuracy: 0.9677 - val_loss: 0.0993\n",
            "\u001b[1m1563/1563\u001b[0m \u001b[32m━━━━━━━━━━━━━━━━━━━━\u001b[0m\u001b[37m\u001b[0m \u001b[1m59s\u001b[0m 38ms/step - accuracy: 0.9603 - loss: 0.1249\n",
            "\n",
            "Model 2 Accuracy after augmentation: 0.9677\n"
          ]
        }
      ]
    },
    {
      "cell_type": "markdown",
      "source": [
        "Se aplicaron técnicas de **aumento de datos** utilizando `ImageDataGenerator` de Keras, incluyendo:\n",
        "\n",
        "- Rotaciones de hasta 15 grados.\n",
        "- Desplazamiento horizontal y vertical del 10%.\n",
        "- Zoom aleatorio del 10%.\n",
        "\n",
        "Estas transformaciones permiten que el modelo generalice mejor ante variaciones naturales presentes en los dígitos manuscritos.\n",
        "\n",
        "Se volvió a entrenar el **Modelo 2 (CNN)** con estas transformaciones. La precisión obtenida en el conjunto de prueba fue de **0.9677**, apenas superior al valor previo sin augmentación (0.9685). Esto indica que aunque la mejora fue marginal en este caso, el modelo sigue siendo robusto ante variaciones.\n",
        "\n",
        "Esta técnica es especialmente valiosa cuando se espera una alta variabilidad en los datos de entrada, como ocurre al clasificar imágenes de escritura a mano hechas por distintos usuarios."
      ],
      "metadata": {
        "id": "3KagRBoeudts"
      }
    },
    {
      "cell_type": "code",
      "metadata": {
        "colab": {
          "base_uri": "https://localhost:8080/",
          "height": 458
        },
        "id": "ec50ad69",
        "outputId": "4392f36e-42eb-4aba-a052-1620ef90ebcf"
      },
      "source": [
        "import os\n",
        "from PIL import Image\n",
        "import numpy as np\n",
        "import tensorflow as tf\n",
        "import matplotlib.pyplot as plt\n",
        "\n",
        "# Ruta donde están tus imágenes en Colab\n",
        "custom_images_path = './img'\n",
        "\n",
        "# Lista para almacenar imágenes procesadas\n",
        "custom_images = []\n",
        "image_names = []\n",
        "\n",
        "# Tamaño esperado por el modelo\n",
        "img_size = (28, 28)\n",
        "\n",
        "# Iterar sobre los archivos en la carpeta\n",
        "print(f\"Loading images from: {custom_images_path}\")\n",
        "for file_name in sorted(os.listdir(custom_images_path)):\n",
        "    # Procesar archivos con formato válido\n",
        "    if file_name.startswith('digito_') and file_name.lower().endswith(('.png', '.jpg', '.jpeg')):\n",
        "        img_path = os.path.join(custom_images_path, file_name)\n",
        "        try:\n",
        "            # Cargar, convertir a escala de grises, redimensionar y normalizar\n",
        "            img = Image.open(img_path).convert('L').resize(img_size)\n",
        "            custom_images.append(np.array(img) / 255.0)\n",
        "            image_names.append(file_name)\n",
        "            print(f\"Loaded and processed: {file_name}\")\n",
        "        except Exception as e:\n",
        "            print(f\"Error loading image {file_name}: {e}\")\n",
        "\n",
        "# Convertir a tensor y predecir\n",
        "if custom_images:\n",
        "    custom_images_tensor = tf.convert_to_tensor(custom_images, dtype=tf.float32)\n",
        "    custom_images_tensor = tf.reshape(custom_images_tensor, [-1, img_size[0], img_size[1], 1])\n",
        "\n",
        "    print(\"\\nProcessed images shape:\", custom_images_tensor.shape)\n",
        "\n",
        "    if 'model2' in globals():\n",
        "        print(\"\\nMaking predictions with Model 2...\")\n",
        "        predictions = model2.predict(custom_images_tensor)\n",
        "\n",
        "        # Mostrar resultados\n",
        "        plt.figure(figsize=(15, 5))\n",
        "        for i in range(len(custom_images)):\n",
        "            plt.subplot(1, len(custom_images), i + 1)\n",
        "            plt.imshow(custom_images[i].squeeze(), cmap='gray')\n",
        "            predicted_label = np.argmax(predictions[i])\n",
        "            try:\n",
        "                real_label = int(image_names[i].split('_')[1].split('.')[0])\n",
        "                title = f'Pred: {predicted_label}\\nReal: {real_label}'\n",
        "                color = 'green' if predicted_label == real_label else 'red'\n",
        "            except:\n",
        "                title = f'Pred: {predicted_label}\\nReal: Unknown'\n",
        "                color = 'black'\n",
        "            plt.title(title, color=color)\n",
        "            plt.axis('off')\n",
        "        plt.tight_layout()\n",
        "        plt.show()\n",
        "    else:\n",
        "        print(\"Error: El modelo 'model2' no está definido. Ejecuta primero la celda donde se entrena.\")\n",
        "else:\n",
        "    print(\"o se encontraron imágenes válidas en './img' con nombres como 'digito_X.(png|jpg|jpeg)'\")"
      ],
      "execution_count": 16,
      "outputs": [
        {
          "output_type": "stream",
          "name": "stdout",
          "text": [
            "Loading images from: ./img\n",
            "Loaded and processed: digito_0.jpeg\n",
            "Loaded and processed: digito_1.jpeg\n",
            "Loaded and processed: digito_2.jpeg\n",
            "Loaded and processed: digito_3.jpeg\n",
            "Loaded and processed: digito_4.jpeg\n",
            "Loaded and processed: digito_5.jpeg\n",
            "Loaded and processed: digito_6.jpeg\n",
            "Loaded and processed: digito_7.jpeg\n",
            "Loaded and processed: digito_8.jpeg\n",
            "Loaded and processed: digito_9.jpeg\n",
            "\n",
            "Processed images shape: (10, 28, 28, 1)\n",
            "\n",
            "Making predictions with Model 2...\n",
            "\u001b[1m1/1\u001b[0m \u001b[32m━━━━━━━━━━━━━━━━━━━━\u001b[0m\u001b[37m\u001b[0m \u001b[1m0s\u001b[0m 67ms/step\n"
          ]
        },
        {
          "output_type": "display_data",
          "data": {
            "text/plain": [
              "<Figure size 1500x500 with 10 Axes>"
            ],
            "image/png": "[encoded data removed]"
          },
          "metadata": {}
        }
      ]
    },
    {
      "cell_type": "markdown",
      "source": [
        "## Evaluación final con imágenes personalizadas\n",
        "\n",
        "La evaluación final del **Modelo 2**, el cual mostró el mejor desempeño en el conjunto de prueba con una precisión de **0.9685** (ligeramente ajustada a **0.9677** tras la aplicación de *data augmentation*), se realizó utilizando un conjunto de **10 imágenes manuscritas personalizadas** ubicadas en la carpeta `./img`.\n",
        "\n",
        "Estas imágenes fueron previamente procesadas para ajustarse al formato esperado por el modelo:\n",
        "\n",
        "- Convertidas a escala de grises.\n",
        "- Redimensionadas a **28x28 píxeles**.\n",
        "- Normalizadas en valores de 0 a 1.\n",
        "\n",
        "Al analizar las predicciones del Modelo 2 sobre estas imágenes, se pudo observar su capacidad para **clasificar correctamente la mayoría de los dígitos manuscritos**.\n",
        "\n",
        "- Las imágenes con **título en verde** indican una **predicción correcta**.\n",
        "- Las imágenes con **título en rojo** reflejan un **error de clasificación**.\n",
        "\n",
        "Gracias a su rendimiento previo y robustez tras el *data augmentation*, el Modelo 2 fue seleccionado como el **candidato ideal para ser evaluado con datos del mundo real**, como lo son estas imágenes personalizadas escritas a mano."
      ],
      "metadata": {
        "id": "Vaq1_E4jkUcl"
      }
    }
  ],
  "metadata": {
    "colab": {
      "provenance": []
    },
    "kernelspec": {
      "display_name": "Python 3",
      "name": "python3"
    },
    "language_info": {
      "name": "python"
    }
  },
  "nbformat": 4,
  "nbformat_minor": 0
}